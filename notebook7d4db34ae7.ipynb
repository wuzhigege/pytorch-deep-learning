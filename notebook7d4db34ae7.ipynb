{
 "cells": [
  {
   "cell_type": "code",
   "execution_count": 1,
   "id": "1b63cce3",
   "metadata": {
    "_cell_guid": "b1076dfc-b9ad-4769-8c92-a6c4dae69d19",
    "_uuid": "8f2839f25d086af736a60e9eeb907d3b93b6e0e5",
    "execution": {
     "iopub.execute_input": "2024-07-15T04:37:30.921091Z",
     "iopub.status.busy": "2024-07-15T04:37:30.920647Z",
     "iopub.status.idle": "2024-07-15T04:38:03.565528Z",
     "shell.execute_reply": "2024-07-15T04:38:03.564241Z"
    },
    "papermill": {
     "duration": 32.652207,
     "end_time": "2024-07-15T04:38:03.568761",
     "exception": false,
     "start_time": "2024-07-15T04:37:30.916554",
     "status": "completed"
    },
    "tags": []
   },
   "outputs": [
    {
     "name": "stdout",
     "output_type": "stream",
     "text": [
      "Initialized empty Git repository in /kaggle/working/.git/\r\n",
      "Cloning into 'pytorch-deep-learning'...\r\n",
      "remote: Enumerating objects: 3952, done.\u001b[K\r\n",
      "remote: Total 3952 (delta 0), reused 0 (delta 0), pack-reused 3952\u001b[K\r\n",
      "Receiving objects: 100% (3952/3952), 639.89 MiB | 27.99 MiB/s, done.\r\n",
      "Resolving deltas: 100% (2335/2335), done.\r\n",
      "Updating files: 100% (248/248), done.\r\n"
     ]
    }
   ],
   "source": [
    "# This Python 3 environment comes with many helpful analytics libraries installed\n",
    "# It is defined by the kaggle/python Docker image: https://github.com/kaggle/docker-python\n",
    "# For example, here's several helpful packages to load\n",
    "\n",
    "!git init\n",
    "!git clone https://github.com/wuzhigege/pytorch-deep-learning.git"
   ]
  }
 ],
 "metadata": {
  "kaggle": {
   "accelerator": "none",
   "dataSources": [],
   "dockerImageVersionId": 30746,
   "isGpuEnabled": false,
   "isInternetEnabled": true,
   "language": "python",
   "sourceType": "notebook"
  },
  "kernelspec": {
   "display_name": "Python 3",
   "language": "python",
   "name": "python3"
  },
  "language_info": {
   "codemirror_mode": {
    "name": "ipython",
    "version": 3
   },
   "file_extension": ".py",
   "mimetype": "text/x-python",
   "name": "python",
   "nbconvert_exporter": "python",
   "pygments_lexer": "ipython3",
   "version": "3.10.13"
  },
  "papermill": {
   "default_parameters": {},
   "duration": 36.477709,
   "end_time": "2024-07-15T04:38:04.004505",
   "environment_variables": {},
   "exception": null,
   "input_path": "__notebook__.ipynb",
   "output_path": "__notebook__.ipynb",
   "parameters": {},
   "start_time": "2024-07-15T04:37:27.526796",
   "version": "2.5.0"
  }
 },
 "nbformat": 4,
 "nbformat_minor": 5
}
